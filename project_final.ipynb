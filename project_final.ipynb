{
 "cells": [
  {
   "cell_type": "code",
   "execution_count": null,
   "id": "1a8b3c0f-f61f-4817-a9cf-f5f4ce422738",
   "metadata": {},
   "outputs": [],
   "source": [
    "# Load dataset\n",
    "players <- read_csv(\"https://raw.githubusercontent.com/ckmidas/dsci100-project-proposal/refs/heads/main/players.csv\")\n",
    "head(players)"
   ]
  }
 ],
 "metadata": {
  "kernelspec": {
   "display_name": "R",
   "language": "R",
   "name": "ir"
  },
  "language_info": {
   "codemirror_mode": "r",
   "file_extension": ".r",
   "mimetype": "text/x-r-source",
   "name": "R",
   "pygments_lexer": "r",
   "version": "4.3.3"
  }
 },
 "nbformat": 4,
 "nbformat_minor": 5
}
